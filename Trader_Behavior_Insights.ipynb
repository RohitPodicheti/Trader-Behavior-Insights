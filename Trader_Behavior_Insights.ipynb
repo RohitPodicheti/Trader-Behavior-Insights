{
  "nbformat": 4,
  "nbformat_minor": 0,
  "metadata": {
    "colab": {
      "private_outputs": true,
      "provenance": [],
      "authorship_tag": "ABX9TyOeeaJX92RPM9iYy52ST46R",
      "include_colab_link": true
    },
    "kernelspec": {
      "name": "python3",
      "display_name": "Python 3"
    },
    "language_info": {
      "name": "python"
    }
  },
  "cells": [
    {
      "cell_type": "markdown",
      "metadata": {
        "id": "view-in-github",
        "colab_type": "text"
      },
      "source": [
        "<a href=\"https://colab.research.google.com/github/RohitPodicheti/Trader-Behavior-Insights/blob/main/Trader_Behavior_Insights.ipynb\" target=\"_parent\"><img src=\"https://colab.research.google.com/assets/colab-badge.svg\" alt=\"Open In Colab\"/></a>"
      ]
    },
    {
      "cell_type": "code",
      "execution_count": null,
      "metadata": {
        "id": "qDMs0RPQ3233"
      },
      "outputs": [],
      "source": [
        "\n",
        "import pandas as pd\n",
        "import seaborn as sns\n",
        "import matplotlib.pyplot as plt\n",
        "import seaborn as sns"
      ]
    },
    {
      "cell_type": "code",
      "source": [
        "df = pd.read_csv(\"fear_greed_index.csv\")\n",
        "df.head()\n",
        "\n",
        "df2=pd.read_csv(\"historical_data.csv\")\n",
        "df2.head()"
      ],
      "metadata": {
        "id": "kWeSZ-Gl4Emt"
      },
      "execution_count": null,
      "outputs": []
    },
    {
      "cell_type": "code",
      "source": [
        "df.describe()"
      ],
      "metadata": {
        "id": "1sQEY_YX5Q8Z"
      },
      "execution_count": null,
      "outputs": []
    },
    {
      "cell_type": "code",
      "source": [
        "df.info()"
      ],
      "metadata": {
        "id": "KQ0ncOMi5LNf"
      },
      "execution_count": null,
      "outputs": []
    },
    {
      "cell_type": "code",
      "source": [
        "df.isnull().sum()"
      ],
      "metadata": {
        "id": "Aq5LQ0C_5k6-"
      },
      "execution_count": null,
      "outputs": []
    },
    {
      "cell_type": "code",
      "source": [
        "df2.describe()"
      ],
      "metadata": {
        "id": "PzbXw71R6oFo"
      },
      "execution_count": null,
      "outputs": []
    },
    {
      "cell_type": "code",
      "source": [
        "df2.info()"
      ],
      "metadata": {
        "id": "EY2Wd5Nq6pXg"
      },
      "execution_count": null,
      "outputs": []
    },
    {
      "cell_type": "code",
      "source": [
        "df2.isnull().sum()"
      ],
      "metadata": {
        "id": "uwo-c8Ps6xQx"
      },
      "execution_count": null,
      "outputs": []
    },
    {
      "cell_type": "code",
      "source": [
        "df2['trade_datetime'] = pd.to_datetime(df2['Timestamp IST'], format=\"%d-%m-%Y %H:%M\")"
      ],
      "metadata": {
        "id": "x9uk4WjQ64JT"
      },
      "execution_count": null,
      "outputs": []
    },
    {
      "cell_type": "code",
      "source": [
        "df2.head(3)"
      ],
      "metadata": {
        "id": "8i1g47Mf7OOT"
      },
      "execution_count": null,
      "outputs": []
    },
    {
      "cell_type": "code",
      "source": [
        "df2['trade_date'] = df2['trade_datetime'].dt.date\n",
        "df2['Closed PnL'] = pd.to_numeric(df2['Closed PnL'], errors='coerce')\n",
        "df2.head(3)\n"
      ],
      "metadata": {
        "id": "RnWQhxR87RC9"
      },
      "execution_count": null,
      "outputs": []
    },
    {
      "cell_type": "code",
      "source": [
        "df['date'] = pd.to_datetime(df['date']).dt.date\n",
        "df.head(3)"
      ],
      "metadata": {
        "id": "HFY3_qFh9dfm"
      },
      "execution_count": null,
      "outputs": []
    },
    {
      "cell_type": "code",
      "source": [
        "\n",
        "\n",
        "df['date'] = pd.to_datetime(df['date']).dt.date\n",
        "df['sentiment'] = df['classification'].apply(lambda x: 'Fear' if 'Fear' in x else 'Greed')\n"
      ],
      "metadata": {
        "id": "7TdL8lywAfCl"
      },
      "execution_count": null,
      "outputs": []
    },
    {
      "cell_type": "code",
      "source": [
        "trader_clean = df2[['trade_date', 'Side', 'Closed PnL', 'Size USD', 'Execution Price', 'Start Position']].dropna()\n",
        "sentiment_clean = df[['date', 'sentiment']]"
      ],
      "metadata": {
        "id": "aFwOwubh-0Ee"
      },
      "execution_count": null,
      "outputs": []
    },
    {
      "cell_type": "code",
      "source": [
        "merged_df = pd.merge(trader_clean, sentiment_clean, left_on=\"trade_date\", right_on='date', how='inner')\n"
      ],
      "metadata": {
        "id": "v3EVHUSrAkUt"
      },
      "execution_count": null,
      "outputs": []
    },
    {
      "cell_type": "code",
      "source": [
        "merged_df.head()"
      ],
      "metadata": {
        "id": "DQYB4tohCSNG"
      },
      "execution_count": null,
      "outputs": []
    },
    {
      "cell_type": "code",
      "source": [
        "print(df2.columns)\n"
      ],
      "metadata": {
        "id": "V-QIiKO0EOYJ"
      },
      "execution_count": null,
      "outputs": []
    },
    {
      "cell_type": "code",
      "source": [
        "merged_df['profitable'] = (merged_df['Closed PnL'] > 0).astype(int)"
      ],
      "metadata": {
        "id": "wsx-KcvTEcxp"
      },
      "execution_count": null,
      "outputs": []
    },
    {
      "cell_type": "code",
      "source": [
        "\n",
        "print(merged_df.describe())\n"
      ],
      "metadata": {
        "id": "B8RsrFgvE6GU"
      },
      "execution_count": null,
      "outputs": []
    },
    {
      "cell_type": "code",
      "source": [
        "import seaborn as sns\n",
        "import matplotlib.pyplot as plt\n",
        "\n",
        "sns.set(style=\"whitegrid\")\n",
        "\n",
        "plt.figure(figsize=(6,4))\n",
        "sns.countplot(x='profitable', data=merged_df)\n",
        "plt.title(\"Trade Profitability Distribution\")\n",
        "plt.xticks([0,1], ['Not Profitable', 'Profitable'])\n",
        "plt.xlabel(\"Profitability\")\n",
        "plt.ylabel(\"Number of Trades\")\n",
        "plt.tight_layout()\n",
        "plt.show()\n"
      ],
      "metadata": {
        "id": "ZF4pq9q7E6x9"
      },
      "execution_count": null,
      "outputs": []
    },
    {
      "cell_type": "code",
      "source": [
        "plt.figure(figsize=(6,4))\n",
        "sns.barplot(x='sentiment', y='profitable', data=merged_df)\n",
        "plt.title(\"Average Profitability by Market Sentiment\")\n",
        "plt.xlabel(\"Sentiment\")\n",
        "plt.ylabel(\" Profitable Trades\")\n",
        "plt.tight_layout()\n",
        "plt.show()\n"
      ],
      "metadata": {
        "id": "N80-N7SmFM2M"
      },
      "execution_count": null,
      "outputs": []
    },
    {
      "cell_type": "code",
      "source": [
        "plt.figure(figsize=(10,4))\n",
        "sns.histplot(data=merged_df, x='Size USD', hue='sentiment', element='step', bins=30)\n",
        "plt.title(\"Trade Size Distribution by Sentiment\")\n",
        "plt.tight_layout()\n",
        "plt.show()\n"
      ],
      "metadata": {
        "id": "aAtmqCfIFf9T"
      },
      "execution_count": null,
      "outputs": []
    },
    {
      "cell_type": "code",
      "source": [
        "from sklearn.preprocessing import LabelEncoder"
      ],
      "metadata": {
        "id": "uxw-8-abFvRq"
      },
      "execution_count": null,
      "outputs": []
    },
    {
      "cell_type": "code",
      "source": [
        "le_side = LabelEncoder()\n",
        "le_sentiment = LabelEncoder()"
      ],
      "metadata": {
        "id": "MRunU-D5GKjA"
      },
      "execution_count": null,
      "outputs": []
    },
    {
      "cell_type": "code",
      "source": [
        "merged_df['side_encoded'] = le_side.fit_transform(merged_df['Side'])\n",
        "merged_df['sentiment_encoded'] = le_sentiment.fit_transform(merged_df['sentiment'])\n"
      ],
      "metadata": {
        "id": "Yz8mF_wdGQPx"
      },
      "execution_count": null,
      "outputs": []
    },
    {
      "cell_type": "code",
      "source": [
        "# Features and target\n",
        "X = merged_df[['side_encoded', 'sentiment_encoded', 'Size USD', 'Execution Price', 'Start Position']]\n",
        "y = merged_df['profitable']\n"
      ],
      "metadata": {
        "id": "4kyEZ3rpGdTe"
      },
      "execution_count": null,
      "outputs": []
    },
    {
      "cell_type": "code",
      "source": [
        "from sklearn.model_selection import train_test_split\n",
        "\n",
        "X_train, X_test, y_train, y_test = train_test_split(X, y, test_size=0.2, random_state=42)\n"
      ],
      "metadata": {
        "id": "Ok_NXoipGhPQ"
      },
      "execution_count": null,
      "outputs": []
    },
    {
      "cell_type": "code",
      "source": [
        "from sklearn.linear_model import LogisticRegression\n",
        "\n",
        "model = LogisticRegression(max_iter=1000)\n",
        "model.fit(X_train, y_train)\n"
      ],
      "metadata": {
        "id": "mTI6_86jGlL8"
      },
      "execution_count": null,
      "outputs": []
    },
    {
      "cell_type": "code",
      "source": [
        "from sklearn.metrics import accuracy_score, classification_report, confusion_matrix\n",
        "\n",
        "y_pred = model.predict(X_test)\n",
        "\n",
        "print(\"Accuracy:\", accuracy_score(y_test, y_pred))\n",
        "print(\"\\n Classification Report:\\n\", classification_report(y_test, y_pred))\n",
        "print(\"\\n Confusion Matrix:\\n\", confusion_matrix(y_test, y_pred))\n"
      ],
      "metadata": {
        "id": "no_VjVsgGqb_"
      },
      "execution_count": null,
      "outputs": []
    },
    {
      "cell_type": "code",
      "source": [],
      "metadata": {
        "id": "FMVGIL0iIuIG"
      },
      "execution_count": null,
      "outputs": []
    }
  ]
}